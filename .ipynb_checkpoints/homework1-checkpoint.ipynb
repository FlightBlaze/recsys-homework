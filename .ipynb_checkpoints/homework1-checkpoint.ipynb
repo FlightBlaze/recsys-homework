{
 "cells": [
  {
   "cell_type": "markdown",
   "id": "136028c3-d0fa-479d-bb9f-630bf0744c9f",
   "metadata": {},
   "source": [
    "### Задание 1"
   ]
  },
  {
   "cell_type": "markdown",
   "id": "564ea5a3-ef65-4b89-86f5-e1e1014c7e33",
   "metadata": {},
   "source": [
    "- F1@k\n",
    "- MAR@K\n",
    "- Coverage\n",
    "- Intra-list similarity"
   ]
  },
  {
   "cell_type": "markdown",
   "id": "6326a0f1-0f88-44cc-a2a1-5fe09bac544d",
   "metadata": {},
   "source": [
    "### Задание 2"
   ]
  },
  {
   "cell_type": "code",
   "execution_count": 1,
   "id": "3dd3cb35-67c3-4de6-90f5-1548e8dd962b",
   "metadata": {},
   "outputs": [],
   "source": [
    "import numpy as np\n",
    "import pandas as pd"
   ]
  },
  {
   "cell_type": "markdown",
   "id": "e848fc10-4e72-493f-9749-433c80d913fc",
   "metadata": {},
   "source": [
    "#### hit_rate_at_k"
   ]
  },
  {
   "cell_type": "code",
   "execution_count": 66,
   "id": "4fa2d17b-7055-4ae9-bb3b-4c8d2373cf8d",
   "metadata": {},
   "outputs": [],
   "source": [
    "recommended_list = np.array([144,156, 1134, 32, 1543, 3345, 533, 11, 143]) #id товаров\n",
    "recommended_prices = np.array([144,156, 1134, 2233, 1543, 3345, 533, 11, 534])\n",
    "bought_list = np.array([521, 32, 143, 991])\n",
    "bought_prices = np.array([23,2233,534,56])"
   ]
  },
  {
   "cell_type": "code",
   "execution_count": 37,
   "id": "e56513b4-77c3-4ce8-8786-f77df840235b",
   "metadata": {},
   "outputs": [],
   "source": [
    "def hit_rate(recommended_list, bought_list):\n",
    "    flags = np.isin(bought_list, recommended_list)\n",
    "    return (flags.sum() > 0) * 1"
   ]
  },
  {
   "cell_type": "code",
   "execution_count": 38,
   "id": "caa39bda-f912-4872-961f-6b96fdf9c1ff",
   "metadata": {},
   "outputs": [
    {
     "data": {
      "text/plain": [
       "1"
      ]
     },
     "execution_count": 38,
     "metadata": {},
     "output_type": "execute_result"
    }
   ],
   "source": [
    "hit_rate(recommended_list, bought_list)"
   ]
  },
  {
   "cell_type": "code",
   "execution_count": 39,
   "id": "6a86d6d5-9a9e-4c68-8ed8-bea2b30fd2c1",
   "metadata": {},
   "outputs": [],
   "source": [
    "def hit_rate_at_k(recommended_list, bought_list, k=5):\n",
    "    return hit_rate(recommended_list[:k], bought_list)"
   ]
  },
  {
   "cell_type": "code",
   "execution_count": 40,
   "id": "01c82c5f-7dde-4b06-83b1-eee6dfa4fb72",
   "metadata": {},
   "outputs": [
    {
     "data": {
      "text/plain": [
       "0"
      ]
     },
     "execution_count": 40,
     "metadata": {},
     "output_type": "execute_result"
    }
   ],
   "source": [
    "hit_rate_at_k(recommended_list, bought_list, k=3)"
   ]
  },
  {
   "cell_type": "code",
   "execution_count": 41,
   "id": "33d03f00-27ba-4368-98b5-d6a34aa580a9",
   "metadata": {},
   "outputs": [
    {
     "data": {
      "text/plain": [
       "1"
      ]
     },
     "execution_count": 41,
     "metadata": {},
     "output_type": "execute_result"
    }
   ],
   "source": [
    "hit_rate_at_k(recommended_list, bought_list, k=5)"
   ]
  },
  {
   "cell_type": "markdown",
   "id": "b85f74ae-e704-4a6a-8bea-90c7d0108d90",
   "metadata": {},
   "source": [
    "#### money_recall_at_k"
   ]
  },
  {
   "cell_type": "code",
   "execution_count": 80,
   "id": "ff8cda08-8d5e-4c0e-bc22-f4f9ec1b08c1",
   "metadata": {},
   "outputs": [],
   "source": [
    "def recall(recommended_list, bought_list):\n",
    "    flags = np.isin(bought_list, recommended_list)\n",
    "    return flags.sum() / len(bought_list)\n",
    "    \n",
    "\n",
    "def recall_at_k(recommended_list, bought_list, k=5):\n",
    "    return recall(recommended_list[:k], bought_list)\n",
    "\n",
    "def money_recall(recommended_list, bought_list, prices_recommended, prices_bought):\n",
    "    flags = np.isin(recommended_list, bought_list)\n",
    "    return np.dot(flags, prices_recommended).sum() / prices_bought.sum()\n",
    "\n",
    "def money_recall_at_k(recommended_list, bought_list, prices_recommended, prices_bought, k=5):\n",
    "    return money_recall(recommended_list[:k], bought_list,  prices_recommended[:k], prices_bought)"
   ]
  },
  {
   "cell_type": "code",
   "execution_count": 81,
   "id": "9361d638-196b-4536-8152-537183d426e1",
   "metadata": {},
   "outputs": [
    {
     "data": {
      "text/plain": [
       "0.5"
      ]
     },
     "execution_count": 81,
     "metadata": {},
     "output_type": "execute_result"
    }
   ],
   "source": [
    "recall(recommended_list, bought_list)"
   ]
  },
  {
   "cell_type": "code",
   "execution_count": 82,
   "id": "80c54ef0-1a4d-438d-a2d1-eb35166b62fb",
   "metadata": {},
   "outputs": [
    {
     "data": {
      "text/plain": [
       "0.25"
      ]
     },
     "execution_count": 82,
     "metadata": {},
     "output_type": "execute_result"
    }
   ],
   "source": [
    "recall_at_k(recommended_list,bought_list,k=5)"
   ]
  },
  {
   "cell_type": "code",
   "execution_count": 83,
   "id": "00f11ac1-6ab0-4f61-b2a7-23fb50546d0d",
   "metadata": {},
   "outputs": [
    {
     "data": {
      "text/plain": [
       "0.7846099789177794"
      ]
     },
     "execution_count": 83,
     "metadata": {},
     "output_type": "execute_result"
    }
   ],
   "source": [
    "money_recall_at_k(recommended_list,bought_list, recommended_prices, bought_prices, k=5)"
   ]
  },
  {
   "cell_type": "markdown",
   "id": "e2dc7509-d7e0-4dd1-af4f-7dcf1143e003",
   "metadata": {},
   "source": [
    "#### MAP@k"
   ]
  },
  {
   "cell_type": "code",
   "execution_count": 108,
   "id": "a86cdd91-b5ac-4262-8d03-f30c7a8d3715",
   "metadata": {},
   "outputs": [],
   "source": [
    "recommended_list_3_users = [[143, 156, 1134, 991, 27, 1543, 3345, 533, 11, 43], \n",
    "                    [1134, 533, 14, 4, 15, 1543, 1, 99, 27, 3345],\n",
    "                    [991, 3345, 27, 533, 43, 143, 1543, 156, 1134, 1]]\n",
    "\n",
    "bought_list_3_users = [[521, 32, 143],  # юзер 1\n",
    "                       [143, 156, 991, 43, 11], # юзер 2\n",
    "                       [1,2]] # юзер 3"
   ]
  },
  {
   "cell_type": "code",
   "execution_count": 91,
   "id": "2d72ce3e-70c7-4c39-9fbf-c05a8ac6b66c",
   "metadata": {},
   "outputs": [],
   "source": [
    "def precision(recommended_list, bought_list):\n",
    "    flags = np.isin(bought_list, recommended_list)\n",
    "    return flags.sum() / len(recommended_list)"
   ]
  },
  {
   "cell_type": "code",
   "execution_count": 92,
   "id": "b0406f30-ffb1-41ee-b2bc-e6022bbea3bb",
   "metadata": {},
   "outputs": [],
   "source": [
    "def precision_at_k(recommended_list, bought_list, k=5):\n",
    "    return precision(recommended_list[:k], bought_list)"
   ]
  },
  {
   "cell_type": "code",
   "execution_count": 93,
   "id": "47fd70af-3b1e-45bd-9f50-e8e8bcc42d00",
   "metadata": {},
   "outputs": [],
   "source": [
    "def ap_k(recommended_list, bought_list, k=5):\n",
    "    relevant_indexes = np.nonzero(np.isin(recommended_list, bought_list))[0]\n",
    "    if len(relevant_indexes) == 0:\n",
    "        return 0\n",
    "    \n",
    "    amount_relevant = len(relevant_indexes)\n",
    "    \n",
    "    sum_ = sum([precision_at_k(recommended_list, bought_list, k=index_relevant+1) for index_relevant in relevant_indexes])\n",
    "    return sum_/amount_relevant"
   ]
  },
  {
   "cell_type": "code",
   "execution_count": 94,
   "id": "a7a05ba7-7d0c-4591-bdfc-4b710df7746f",
   "metadata": {},
   "outputs": [
    {
     "data": {
      "text/plain": [
       "0.2361111111111111"
      ]
     },
     "execution_count": 94,
     "metadata": {},
     "output_type": "execute_result"
    }
   ],
   "source": [
    "ap_k(recommended_list, bought_list, k=5)"
   ]
  },
  {
   "cell_type": "code",
   "execution_count": 98,
   "id": "a4639408-e0ab-4f88-8f7a-27420936d900",
   "metadata": {},
   "outputs": [],
   "source": [
    "def map_k(recommended_lists, bought_lists, k=5):\n",
    "    n = len(recommended_lists)\n",
    "    s = 0.0\n",
    "    for i in range(n):\n",
    "        s += ap_k(recommended_lists[i], bought_lists[i], k=5)\n",
    "    return s / n"
   ]
  },
  {
   "cell_type": "code",
   "execution_count": 99,
   "id": "e632c770-14ca-4a3c-83dd-9a6846a2fbf7",
   "metadata": {},
   "outputs": [
    {
     "data": {
      "text/plain": [
       "0.3333333333333333"
      ]
     },
     "execution_count": 99,
     "metadata": {},
     "output_type": "execute_result"
    }
   ],
   "source": [
    "map_k(recommended_list_3_users, bought_list_3_users, k=5)"
   ]
  },
  {
   "cell_type": "markdown",
   "id": "8f915fe1-2654-4419-9789-be0c2605f307",
   "metadata": {},
   "source": [
    "#### NDCG@k"
   ]
  },
  {
   "cell_type": "code",
   "execution_count": 143,
   "id": "4e3e9df6-f033-4938-a320-9d2308a544ff",
   "metadata": {},
   "outputs": [],
   "source": [
    "def discount(i):\n",
    "    if(i <= 2):\n",
    "        return i + 1\n",
    "    return np.log2(i + 1)\n",
    "\n",
    "def ndcg(recommended_list, bought_list):\n",
    "    flags = np.isin(recommended_list, bought_list)\n",
    "    n = len(flags)\n",
    "    dcg = sum([float(flags[i]) / discount(i) for i in range(n)]) / n\n",
    "    idcg = sum([1.0 / discount(i) for i in range(n)]) / n\n",
    "    return dcg / idcg\n",
    "    \n",
    "def ndcg_at_k(recommended_list, bought_list, k=5):\n",
    "    return ndcg(recommended_list[:k], bought_list)"
   ]
  },
  {
   "cell_type": "code",
   "execution_count": 144,
   "id": "1f58646d-a34e-4322-8f8c-e99f3fad7009",
   "metadata": {},
   "outputs": [
    {
     "data": {
      "text/plain": [
       "0.18089660299497992"
      ]
     },
     "execution_count": 144,
     "metadata": {},
     "output_type": "execute_result"
    }
   ],
   "source": [
    "ndcg_at_k(recommended_list, bought_list, k=5)"
   ]
  },
  {
   "cell_type": "markdown",
   "id": "1cd6cb4a-55cb-4c01-a8b0-66a97371a97c",
   "metadata": {},
   "source": [
    "#### MRR@k"
   ]
  },
  {
   "cell_type": "code",
   "execution_count": 113,
   "id": "80d107d4-fe52-42fa-9b43-e48d6f1118ed",
   "metadata": {},
   "outputs": [],
   "source": [
    "def rank(recommended, first_relevant):\n",
    "    try:\n",
    "        return list(recommended).index(first_relevant)\n",
    "    except ValueError:\n",
    "        return 0"
   ]
  },
  {
   "cell_type": "code",
   "execution_count": 111,
   "id": "5cb004e1-f267-4e6f-a958-ebce89340bf4",
   "metadata": {},
   "outputs": [],
   "source": [
    "def reciprocal_rank(recommended_lists, bought_lists, k=1):\n",
    "    n = len(recommended_lists)\n",
    "    s = 0.0\n",
    "    for i in range(n):\n",
    "        r = rank(recommended_lists[i][:k], bought_lists[i][0])\n",
    "        if r != 0:\n",
    "            s += 1 / r\n",
    "    return s / n\n",
    "    pass"
   ]
  },
  {
   "cell_type": "code",
   "execution_count": 145,
   "id": "597e3449-eb4a-4887-9776-77d6168a5c1d",
   "metadata": {},
   "outputs": [
    {
     "data": {
      "text/plain": [
       "0.037037037037037035"
      ]
     },
     "execution_count": 145,
     "metadata": {},
     "output_type": "execute_result"
    }
   ],
   "source": [
    "reciprocal_rank(recommended_list_3_users, bought_list_3_users, k=10)"
   ]
  }
 ],
 "metadata": {
  "kernelspec": {
   "display_name": "Python 3 (ipykernel)",
   "language": "python",
   "name": "python3"
  },
  "language_info": {
   "codemirror_mode": {
    "name": "ipython",
    "version": 3
   },
   "file_extension": ".py",
   "mimetype": "text/x-python",
   "name": "python",
   "nbconvert_exporter": "python",
   "pygments_lexer": "ipython3",
   "version": "3.9.10"
  }
 },
 "nbformat": 4,
 "nbformat_minor": 5
}
